{
 "cells": [
  {
   "cell_type": "markdown",
   "id": "097bf096",
   "metadata": {
    "pycharm": {
     "name": "#%% md\n"
    }
   },
   "source": [
    "# KURS ZŁOTEGO"
   ]
  },
  {
   "cell_type": "code",
   "execution_count": null,
   "id": "2b945955-8a56-4324-95e1-9fd32fcb91ce",
   "metadata": {
    "pycharm": {
     "name": "#%%\n",
     "is_executing": true
    }
   },
   "outputs": [],
   "source": [
    "import pandas as pd\n",
    "from alpha_vantage.foreignexchange import ForeignExchange\n",
    "import mplfinance as mpf\n",
    "import matplotlib.pyplot as plt\n",
    "from datetime import datetime\n",
    "from time import sleep\n",
    "from os import environ\n",
    "import pytz"
   ]
  },
  {
   "cell_type": "code",
   "execution_count": null,
   "outputs": [],
   "source": [
    "tz = pytz.timezone('Europe/Warsaw')\n",
    "print(f'Ostatnia aktualizacja: {datetime.now(tz=tz)}')"
   ],
   "metadata": {
    "collapsed": false,
    "pycharm": {
     "name": "#%%\n"
    }
   }
  },
  {
   "cell_type": "code",
   "execution_count": null,
   "id": "ed4c4646",
   "metadata": {
    "pycharm": {
     "name": "#%%\n",
     "is_executing": true
    }
   },
   "outputs": [],
   "source": [
    "AV_API_KEY = environ['AV_API_KEY']\n",
    "cc = ForeignExchange(key=AV_API_KEY, output_format='pandas')\n",
    "\n",
    "currencies = ['EURPLN', 'USDPLN', 'CHFPLN', 'GBPPLN']\n",
    "\n",
    "class Currency:\n",
    "    def __init__(self, currency: str, data):\n",
    "        self.currency = currency\n",
    "        self.data = data\n",
    "    \n",
    "    @classmethod\n",
    "    def load_currency(cls, currency):\n",
    "        while True:\n",
    "            try:\n",
    "                df, _ = cc.get_currency_exchange_daily(currency[:3], currency[3:])\n",
    "                df = df.sort_index(ascending=True)\n",
    "                df.columns = [\"open\", \"high\", \"low\", \"close\"]\n",
    "                return cls(currency, df)\n",
    "            except ValueError:\n",
    "                delay = 15\n",
    "                print(f'Waiting {delay} seconds before the next API call for {currency}...')\n",
    "                sleep(15)\n",
    "                continue\n",
    "            break\n",
    "\n",
    "\n",
    "currencies_data = {}\n",
    "\n",
    "for currency in currencies:\n",
    "    currencies_data[currency] = Currency.load_currency(currency)\n",
    "print('SUCCESS')"
   ]
  },
  {
   "cell_type": "code",
   "execution_count": null,
   "id": "b511971c",
   "metadata": {
    "pycharm": {
     "name": "#%%\n",
     "is_executing": true
    }
   },
   "outputs": [],
   "source": [
    "print(f'Ostatni kurs z dnia {max(currencies_data[\"EURPLN\"].data.index).strftime(\"%Y-%m-%d\")}')\n",
    "for currency in currencies_data:\n",
    "    print(f'{currency}: {currencies_data[currency].data.loc[max(currencies_data[currency].data.index), \"close\"]}')"
   ]
  },
  {
   "cell_type": "code",
   "execution_count": null,
   "id": "25e4aa92",
   "metadata": {
    "pycharm": {
     "name": "#%%\n",
     "is_executing": true
    }
   },
   "outputs": [],
   "source": [
    "plt.figure(figsize=(14, 7))\n",
    "plt.tight_layout()\n",
    "\n",
    "for idx, currency_data in enumerate(currencies_data.items(), 1):\n",
    "    currency, data = currency_data\n",
    "    plt.subplot(1, len(currencies_data), idx)\n",
    "    plt.xticks(rotation=90)\n",
    "    plt.title(currency)\n",
    "    plt.plot(data.data[\"close\"])\n",
    "\n",
    "plt.show()"
   ]
  },
  {
   "cell_type": "code",
   "execution_count": null,
   "id": "cb2558b5",
   "metadata": {
    "pycharm": {
     "name": "#%%\n",
     "is_executing": true
    }
   },
   "outputs": [],
   "source": [
    "fx_based = pd.DataFrame(columns = currencies)\n",
    "\n",
    "for idx, currency_data in enumerate(currencies_data.items(), 1):\n",
    "    currency, data = currency_data\n",
    "    fx_based[currency] = data.data[\"close\"]\n",
    "fx_based = fx_based.div(fx_based.iloc[0])\n",
    "\n",
    "fx_based.plot(title='FX to PLN changes (last 100 days)', figsize = (14,9))\n",
    "plt.show()"
   ]
  },
  {
   "cell_type": "code",
   "execution_count": null,
   "id": "070cb43e",
   "metadata": {
    "pycharm": {
     "name": "#%%\n",
     "is_executing": true
    }
   },
   "outputs": [],
   "source": [
    "for currency_data in currencies_data.items():\n",
    "    currency, data = currency_data\n",
    "    \n",
    "    combined = pd.DataFrame()\n",
    "    combined['close'] = data.data['close']\n",
    "    mpf.plot(data.data,type='candle', scale_padding=0.5, style='yahoo', ylabel=currency, title=f'{currency} daily (last 100 days)', figsize=(14,9))\n",
    "    mpf.show()"
   ]
  }
 ],
 "metadata": {
  "kernelspec": {
   "display_name": "Python 3 (ipykernel)",
   "language": "python",
   "name": "python3"
  },
  "language_info": {
   "codemirror_mode": {
    "name": "ipython",
    "version": 3
   },
   "file_extension": ".py",
   "mimetype": "text/x-python",
   "name": "python",
   "nbconvert_exporter": "python",
   "pygments_lexer": "ipython3",
   "version": "3.10.5"
  }
 },
 "nbformat": 4,
 "nbformat_minor": 5
}